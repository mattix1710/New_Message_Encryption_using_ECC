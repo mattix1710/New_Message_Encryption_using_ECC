{
 "cells": [
  {
   "attachments": {},
   "cell_type": "markdown",
   "metadata": {},
   "source": [
    "<center>\n",
    "\n",
    "# Implementation of New Message Encryption using Elliptic Curve Cryptography Over Finite Fields\n",
    "</center>\n",
    "\n",
    "Used article: [link](https://ieeexplore.ieee.org/stamp/stamp.jsp?tp=&arnumber=9493519)"
   ]
  },
  {
   "attachments": {},
   "cell_type": "markdown",
   "metadata": {},
   "source": [
    "## Proposed method parameters\n",
    "\n",
    "<center>\n",
    "\n",
    "| Set-up Parameters | *n, a, b, p, G* |\n",
    "|-------------------|-----------------|\n",
    "| Key Generator     | *P_B, P_A, n_A, n_B, K* |\n",
    "| Encryption | *E* = [*c_1c_2c_3...c_l*] |\n",
    "| Decryption | *M* = [m_1m_2m_3...m_l] |\n",
    "</center>"
   ]
  },
  {
   "cell_type": "code",
   "execution_count": null,
   "metadata": {},
   "outputs": [],
   "source": []
  }
 ],
 "metadata": {
  "language_info": {
   "name": "python"
  },
  "orig_nbformat": 4
 },
 "nbformat": 4,
 "nbformat_minor": 2
}
