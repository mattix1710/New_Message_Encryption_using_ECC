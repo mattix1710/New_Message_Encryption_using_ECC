{
 "cells": [
  {
   "attachments": {},
   "cell_type": "markdown",
   "metadata": {},
   "source": [
    "<center>\n",
    "\n",
    "# Implementation of New Message Encryption using Elliptic Curve Cryptography Over Finite Fields\n",
    "</center>\n",
    "\n",
    "Used article: [link](https://ieeexplore.ieee.org/stamp/stamp.jsp?tp=&arnumber=9493519)"
   ]
  },
  {
   "attachments": {},
   "cell_type": "markdown",
   "metadata": {},
   "source": [
    "## Proposed method parameters\n",
    "\n",
    "<center>\n",
    "\n",
    "| Set-up Parameters | *n, a, b, p, G* |\n",
    "|-------------------|-----------------|\n",
    "| Key Generator     | *P_B, P_A, n_A, n_B, K* |\n",
    "| Encryption | *E* = [*c_1c_2c_3...c_l*] |\n",
    "| Decryption | *M* = [m_1m_2m_3...m_l] |\n",
    "</center>"
   ]
  },
  {
   "attachments": {},
   "cell_type": "markdown",
   "metadata": {},
   "source": [
    "## 01. Set-up Parameters\n",
    "\n",
    "A and B side should agree upon an elliptic curve *E_p(a,b)* over finite fields where *p* is a prime number, *a* and *b* are integers less than *p*.\n",
    "\n",
    "Points are calculated according to the equation:\n",
    "$$ y^2 = x^3 + ax + b \\mod p$$\n",
    "\n",
    "Which then needs to satisfy the condition:\n",
    "$$ 4a^3+27b^2\\ne 0 \\mod p$$"
   ]
  },
  {
   "cell_type": "code",
   "execution_count": 2,
   "metadata": {},
   "outputs": [
    {
     "name": "stdout",
     "output_type": "stream",
     "text": [
      "36967\n"
     ]
    }
   ],
   "source": [
    "# Example parameters (a,b,p) = (1, 37, 1286081)\n",
    "import math\n",
    "\n",
    "a = 1\n",
    "b = 37\n",
    "p = 1286081\n",
    "\n",
    "# Checking if the equation satisfies the condition equality\n",
    "condition_val = (4*a**3 + 27*b**2) % p\n",
    "\n",
    "print(condition_val)"
   ]
  },
  {
   "cell_type": "code",
   "execution_count": 57,
   "metadata": {},
   "outputs": [
    {
     "name": "stdout",
     "output_type": "stream",
     "text": [
      "12 . + . . . . . . . . . . . \n",
      "11 . . . . . . . . . . . . + \n",
      "10 + . . + . . . . . . + . . \n",
      " 9 . . . . . . . + . . . . . \n",
      " 8 . . + . . . . . . . . . . \n",
      " 7 . . . . . . . . . . . . . \n",
      " 6 . . . . . . . . . . . . . \n",
      " 5 . . + . . . . . . . . . . \n",
      " 4 . . . . . . . + . . . . . \n",
      " 3 + . . + . . . . . . + . . \n",
      " 2 . . . . . . . . . . . . + \n",
      " 1 . + . . . . . . . . . . . \n",
      " 0 . . . . . . . . . . . . . \n",
      "   0 1 2 3 4 5 6 7 8 9 101112"
     ]
    }
   ],
   "source": [
    "# count points on the finite field E_1286081\n",
    "def sqrt(val: int):\n",
    "    return val**(1/2)\n",
    "\n",
    "def count_y(x, a, b):\n",
    "    aux = x**3 + a*x + b\n",
    "    return aux\n",
    "\n",
    "def point(x, y, a, b, p):\n",
    "    result = (x**3 + a*x + b - y**2) % p\n",
    "    if result == 0:\n",
    "        # print(\"Point P({},{}) belongs to curve\".format(x, y))\n",
    "        return True\n",
    "    else:\n",
    "        # print(\"Result:\", result)\n",
    "        return False\n",
    "    \n",
    "def map_points(a, b, p):\n",
    "    for y in reversed(range(p)):\n",
    "        print(\"{:2d}\".format(y), end=\" \")\n",
    "        for x in range(p):\n",
    "            result = point(x, y, a, b, p)\n",
    "            if result == True:\n",
    "                print(\"+\", end=\" \")\n",
    "            else:\n",
    "                print(\".\", end=\" \")\n",
    "        print(\"\")\n",
    "        \n",
    "    print(\"   \", end=\"\")\n",
    "    for x_label in range(p):\n",
    "        if x_label >= 10:\n",
    "            print(\"{:2d}\".format(x_label), end=\"\")\n",
    "        else:\n",
    "            print(\"{}\".format(x_label), end=\" \")\n",
    "\n",
    "# print(point(5, 8, 0, 7, 17))\n",
    "\n",
    "def list_points(a, b, p):\n",
    "    points = []\n",
    "    \n",
    "    for x in range(p):\n",
    "        for y in range(p):\n",
    "            result = point(x, y, a, b, p)\n",
    "            if result == True:\n",
    "                points.append((x, y))\n",
    "    return points\n",
    "\n",
    "map_points(4, 9, 13)"
   ]
  },
  {
   "cell_type": "code",
   "execution_count": 70,
   "metadata": {},
   "outputs": [
    {
     "name": "stdout",
     "output_type": "stream",
     "text": [
      "[(0, 4), (0, 9), (2, 5), (2, 8), (3, 5), (3, 8), (4, 2), (4, 11), (6, 1), (6, 12), (8, 5), (8, 8)]\n",
      "1 * G = (5, 1)\n",
      "2 * G = (6, 3)\n",
      "3 * G = (10, 6)\n",
      "4 * G = (3, 1)\n",
      "5 * G = (9, 16)\n",
      "6 * G = (16, 13)\n",
      "7 * G = (0, 6)\n",
      "8 * G = (13, 7)\n",
      "9 * G = (7, 6)\n",
      "10 * G = (7, 11)\n",
      "11 * G = (13, 10)\n",
      "12 * G = (0, 11)\n",
      "13 * G = (16, 4)\n",
      "14 * G = (9, 1)\n",
      "15 * G = (3, 16)\n",
      "16 * G = (10, 11)\n",
      "17 * G = (None, None)\n",
      "17\n"
     ]
    }
   ],
   "source": [
    "from tinyec.ec import SubGroup, Curve\n",
    "\n",
    "a = 7\n",
    "b = 3\n",
    "p = 13\n",
    "\n",
    "points = list_points(a, b, p)\n",
    "print(points)\n",
    "\n",
    "\n",
    "field = SubGroup(p=17, g=(5, 1), n=17, h=1)\n",
    "curve = Curve(a=2, b=2, field=field, name='p1373')\n",
    "\n",
    "# for curr_point in points:\n",
    "#     field = SubGroup(p=p, g=curr_point, n=len(points)+1, h=1)\n",
    "#     curve = Curve(a=a, b=b, field=field, name='ppp')\n",
    "#     counter = 1\n",
    "#     for k in range(1, 20):\n",
    "#         p = k * curve.g\n",
    "#         if p.x != None and p.y != None:\n",
    "#             counter += 1\n",
    "#         else:\n",
    "#             break\n",
    "#     print(\"{} | {}\".format(curr_point, counter))\n",
    "\n",
    "\n",
    "counter = 1\n",
    "for k in range(1, 25):\n",
    "    p = k * curve.g\n",
    "    print(f\"{k} * G = ({p.x}, {p.y})\")\n",
    "    if p.x != None and p.y != None:\n",
    "        counter += 1\n",
    "    else:\n",
    "        break\n",
    "print(counter)"
   ]
  },
  {
   "attachments": {},
   "cell_type": "markdown",
   "metadata": {},
   "source": [
    "### Adding points on a curve\n",
    "\n",
    "> Let define two points on the elliptic curve *E*(*a*,*b*).\n",
    "> These points are $P(x_1,y_1)$ and $Q(x_2,y_2)$, which are equal to each other i.e. $P=Q$.\\\n",
    "> Point doubling can be defined as follows.\n",
    "\n",
    "$$ P(x_1,y_1)=Q(x_2,y_2) $$\n",
    "\n",
    "where\n",
    "\n",
    "$$ R(x_3,y_3)=P(x_1,y_1)+P(x_1,y_1)=2P $$\n",
    "\n",
    "The calculation of the point doubling is given as follows.\n",
    "\n",
    "$$ x_3 = \\lambda^2-2x_1 $$\n",
    "$$ y_3 = \\lambda(x_1-x_3)-y_1 $$\n",
    "\n",
    "where:\n",
    "\n",
    "$$ \\lambda = \\frac{3x_1^2+a}{2y_1} \\mod p $$\n",
    "\n"
   ]
  },
  {
   "cell_type": "code",
   "execution_count": 69,
   "metadata": {},
   "outputs": [
    {
     "name": "stdout",
     "output_type": "stream",
     "text": [
      "LAMBDA: 4.5\n",
      "(10.25, 9.375)\n"
     ]
    }
   ],
   "source": [
    "def sum_pt(a, p, point_1, point_2 = None):\n",
    "    lam = ((3*point_1[0]**2 + a) * (2*point_1[1])**(-1)) % p\n",
    "    print(\"LAMBDA:\", lam)\n",
    "    \n",
    "    x_3 = (lam**2 - 2*point_1[0]) % p\n",
    "    y_3 = (lam*(point_1[0] - x_3) - point_1[1]) % p\n",
    "    \n",
    "    return (x_3, y_3)\n",
    "\n",
    "init_point = (5, 1)\n",
    "\n",
    "p_2 = sum_pt(a=2, p=17, point_1=init_point)\n",
    "\n",
    "print(p_2)"
   ]
  }
 ],
 "metadata": {
  "kernelspec": {
   "display_name": "Python 3",
   "language": "python",
   "name": "python3"
  },
  "language_info": {
   "codemirror_mode": {
    "name": "ipython",
    "version": 3
   },
   "file_extension": ".py",
   "mimetype": "text/x-python",
   "name": "python",
   "nbconvert_exporter": "python",
   "pygments_lexer": "ipython3",
   "version": "3.11.2"
  },
  "orig_nbformat": 4
 },
 "nbformat": 4,
 "nbformat_minor": 2
}
