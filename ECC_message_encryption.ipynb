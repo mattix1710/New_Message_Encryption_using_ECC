{
 "cells": [
  {
   "attachments": {},
   "cell_type": "markdown",
   "metadata": {},
   "source": [
    "<center>\n",
    "\n",
    "# Implementation of New Message Encryption using Elliptic Curve Cryptography Over Finite Fields\n",
    "</center>\n",
    "\n",
    "Used article: [link](https://ieeexplore.ieee.org/stamp/stamp.jsp?tp=&arnumber=9493519)"
   ]
  },
  {
   "attachments": {},
   "cell_type": "markdown",
   "metadata": {},
   "source": [
    "## Proposed method parameters\n",
    "\n",
    "<center>\n",
    "\n",
    "| Set-up Parameters | *n, a, b, p, G* |\n",
    "|-------------------|-----------------|\n",
    "| Key Generator     | *P_B, P_A, n_A, n_B, K* |\n",
    "| Encryption | *E* = [*c_1c_2c_3...c_l*] |\n",
    "| Decryption | *M* = [m_1m_2m_3...m_l] |\n",
    "</center>"
   ]
  },
  {
   "attachments": {},
   "cell_type": "markdown",
   "metadata": {},
   "source": [
    "## 01. Set-up Parameters\n",
    "\n",
    "A and B side should agree upon an elliptic curve *E_p(a,b)* over finite fields where *p* is a prime number, *a* and *b* are integers less than *p*.\n",
    "\n",
    "Points are calculated according to the equation:\n",
    "$$ y^2 = x^3 + ax + b \\mod p$$\n",
    "\n",
    "Which then needs to satisfy the condition:\n",
    "$$ 4a^3+27b^2\\ne 0 \\mod p$$"
   ]
  },
  {
   "cell_type": "code",
   "execution_count": 2,
   "metadata": {},
   "outputs": [
    {
     "name": "stdout",
     "output_type": "stream",
     "text": [
      "36967\n"
     ]
    }
   ],
   "source": [
    "# Example parameters (a,b,p) = (1, 37, 1286081)\n",
    "import math\n",
    "\n",
    "a = 1\n",
    "b = 37\n",
    "p = 1286081\n",
    "\n",
    "# Checking if the equation satisfies the condition equality\n",
    "condition_val = (4*a**3 + 27*b**2) % p\n",
    "\n",
    "print(condition_val)"
   ]
  },
  {
   "cell_type": "code",
   "execution_count": 30,
   "metadata": {},
   "outputs": [
    {
     "name": "stdout",
     "output_type": "stream",
     "text": [
      "17 . . . + . . . . . . . . . . . . . . \n",
      "16 . . . . . . . . . . . . + . . . . . \n",
      "15 . . . . . . . . . . + . . . . . . . \n",
      "14 . . . . . . . . + . . . . . . . . . \n",
      "13 . . . . . . . . . . . . . . . + . . \n",
      "12 . + . . . . . . . . . . . . . . . . \n",
      "11 . . . . . . + . . . . . . . . . . . \n",
      "10 . . + . . . . . . . . . . . . . . . \n",
      " 9 . . . . . + . . . . . . . . . . . . \n",
      " 8 . . . . . + . . . . . . . . . . . . \n",
      " 7 . . + . . . . . . . . . . . . . . . \n",
      " 6 . . . . . . + . . . . . . . . . . . \n",
      " 5 . + . . . . . . . . . . . . . . . . \n",
      " 4 . . . . . . . . . . . . . . . + . . \n",
      " 3 . . . . . . . . + . . . . . . . . . \n",
      " 2 . . . . . . . . . . + . . . . . . . \n",
      " 1 . . . . . . . . . . . . + . . . . . \n",
      " 0 . . . + . . . . . . . . . . . . . . \n",
      "   0 1 2 3 4 5 6 7 8 9 1011121314151617"
     ]
    }
   ],
   "source": [
    "# count points on the finite field E_1286081\n",
    "def sqrt(val: int):\n",
    "    return val**(1/2)\n",
    "\n",
    "def count_y(x, a, b):\n",
    "    aux = x**3 + a*x + b\n",
    "    return aux\n",
    "\n",
    "def point(x, y, a, b, p):\n",
    "    result = (x**3 + a*x + b - y**2) % p\n",
    "    if result == 0:\n",
    "        # print(\"Point P({},{}) belongs to curve\".format(x, y))\n",
    "        return True\n",
    "    else:\n",
    "        # print(\"Result:\", result)\n",
    "        return False\n",
    "    \n",
    "def map_points(a, b, p):\n",
    "    for y in reversed(range(p+1)):\n",
    "        print(\"{:2d}\".format(y), end=\" \")\n",
    "        for x in range(p+1):\n",
    "            result = point(x, y, a, b, p)\n",
    "            if result == True:\n",
    "                print(\"+\", end=\" \")\n",
    "            else:\n",
    "                print(\".\", end=\" \")\n",
    "        print(\"\")\n",
    "        \n",
    "    print(\"   \", end=\"\")\n",
    "    for x_label in range(p+1):\n",
    "        if x_label >= 10:\n",
    "            print(\"{:2d}\".format(x_label), end=\"\")\n",
    "        else:\n",
    "            print(\"{}\".format(x_label), end=\" \")\n",
    "\n",
    "# print(point(5, 8, 0, 7, 17))\n",
    "\n",
    "map_points(0, 7, 17)"
   ]
  },
  {
   "cell_type": "code",
   "execution_count": 31,
   "metadata": {},
   "outputs": [
    {
     "name": "stdout",
     "output_type": "stream",
     "text": [
      "curve: \"p1707\" => y^2 = x^3 + 0x + 7 (mod 17)\n",
      "0 * G = (None, None)\n",
      "1 * G = (12, 16)\n",
      "2 * G = (1, 5)\n",
      "3 * G = (5, 8)\n",
      "4 * G = (2, 10)\n",
      "5 * G = (2, 7)\n",
      "6 * G = (5, 9)\n",
      "7 * G = (1, 12)\n",
      "8 * G = (12, 1)\n",
      "9 * G = (None, None)\n",
      "10 * G = (12, 16)\n",
      "11 * G = (1, 5)\n",
      "12 * G = (5, 8)\n",
      "13 * G = (2, 10)\n",
      "14 * G = (2, 7)\n",
      "15 * G = (5, 9)\n",
      "16 * G = (1, 12)\n",
      "17 * G = (12, 1)\n",
      "18 * G = (None, None)\n",
      "19 * G = (12, 16)\n",
      "20 * G = (1, 5)\n",
      "21 * G = (5, 8)\n",
      "22 * G = (2, 10)\n",
      "23 * G = (2, 7)\n",
      "24 * G = (5, 9)\n"
     ]
    }
   ],
   "source": [
    "from tinyec.ec import SubGroup, Curve\n",
    "\n",
    "field = SubGroup(p=17, g=(12, 16), n=18, h=1)\n",
    "curve = Curve(a=0, b=7, field=field, name='p1707')\n",
    "print('curve:', curve)\n",
    "\n",
    "for k in range(0, 25):\n",
    "    p = k * curve.g\n",
    "    print(f\"{k} * G = ({p.x}, {p.y})\")"
   ]
  },
  {
   "attachments": {},
   "cell_type": "markdown",
   "metadata": {},
   "source": [
    "### Adding points on a curve"
   ]
  },
  {
   "cell_type": "code",
   "execution_count": 9,
   "metadata": {},
   "outputs": [
    {
     "name": "stdout",
     "output_type": "stream",
     "text": [
      "True\n"
     ]
    }
   ],
   "source": []
  }
 ],
 "metadata": {
  "kernelspec": {
   "display_name": "Python 3",
   "language": "python",
   "name": "python3"
  },
  "language_info": {
   "codemirror_mode": {
    "name": "ipython",
    "version": 3
   },
   "file_extension": ".py",
   "mimetype": "text/x-python",
   "name": "python",
   "nbconvert_exporter": "python",
   "pygments_lexer": "ipython3",
   "version": "3.11.2"
  },
  "orig_nbformat": 4
 },
 "nbformat": 4,
 "nbformat_minor": 2
}
